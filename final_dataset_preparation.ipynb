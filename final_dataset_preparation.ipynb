{
 "cells": [
  {
   "cell_type": "code",
   "execution_count": 1,
   "id": "913ff83e",
   "metadata": {},
   "outputs": [],
   "source": [
    "#Import Libraries\n",
    "import os\n",
    "import shutil\n"
   ]
  },
  {
   "cell_type": "code",
   "execution_count": 2,
   "id": "d6d285b6",
   "metadata": {},
   "outputs": [],
   "source": [
    "# Constants\n",
    "PROCESSED_DATA_FOLDER = 'processed_data'\n",
    "AUGMENTED_DATA_FOLDER = 'augmented_data'\n",
    "FINAL_DATA_FOLDER = 'final_data'"
   ]
  },
  {
   "cell_type": "code",
   "execution_count": 3,
   "id": "249c8d18",
   "metadata": {},
   "outputs": [],
   "source": [
    "#Function to Copy Images to Final Data Folder\n",
    "\n",
    "def copy_images_to_final_folder(src_folder, dest_folder):\n",
    "    \"\"\"\n",
    "    Copies images from the source folder to the destination folder.\n",
    "    \"\"\"\n",
    "    for class_folder in os.listdir(src_folder):\n",
    "        src_class_path = os.path.join(src_folder, class_folder)\n",
    "        dest_class_path = os.path.join(dest_folder, class_folder)\n",
    "        os.makedirs(dest_class_path, exist_ok=True)\n",
    "\n",
    "        for img_filename in os.listdir(src_class_path):\n",
    "            src_img_path = os.path.join(src_class_path, img_filename)\n",
    "            dest_img_path = os.path.join(dest_class_path, img_filename)\n",
    "            shutil.copy2(src_img_path, dest_img_path)\n"
   ]
  },
  {
   "cell_type": "code",
   "execution_count": 4,
   "id": "c8ed7901",
   "metadata": {},
   "outputs": [],
   "source": [
    "#Function to Count and Print Images per Class\n",
    "def count_and_print_images(folder_path):\n",
    "    \"\"\"\n",
    "    Counts and prints the number of images in each class in the specified folder.\n",
    "    \"\"\"\n",
    "    total=0\n",
    "    print(f\"Image counts in {folder_path}:\")\n",
    "    for class_folder in os.listdir(folder_path):\n",
    "        class_path = os.path.join(folder_path, class_folder)\n",
    "        image_count = len(os.listdir(class_path))\n",
    "        total+=image_count\n",
    "        print(f\"{class_folder}: {image_count} images\")\n",
    "    print(f\"Total number of images after augmentation: {total}\")"
   ]
  },
  {
   "cell_type": "code",
   "execution_count": 5,
   "id": "f5d914e5",
   "metadata": {},
   "outputs": [
    {
     "name": "stdout",
     "output_type": "stream",
     "text": [
      "Image counts in final_data:\n",
      "Modhealthy: 120 images\n",
      "Modinoculated: 192 images\n",
      "Reshealthy: 76 images\n",
      "Resinoculated: 144 images\n",
      "Suschealthy: 280 images\n",
      "Suscinoculated: 512 images\n",
      "Total number of images after augmentation: 1324\n"
     ]
    }
   ],
   "source": [
    "#Main Function to Execute Dataset Preparation\n",
    "\n",
    "def main():\n",
    "    # Copy original images to final data folder\n",
    "    copy_images_to_final_folder(PROCESSED_DATA_FOLDER, FINAL_DATA_FOLDER)\n",
    "\n",
    "    # Copy augmented images to final data folder\n",
    "    copy_images_to_final_folder(AUGMENTED_DATA_FOLDER, FINAL_DATA_FOLDER)\n",
    "\n",
    "    # Count and print the number of images per class in the final data folder\n",
    "    count_and_print_images(FINAL_DATA_FOLDER)\n",
    "\n",
    "if __name__ == \"__main__\":\n",
    "    main()"
   ]
  },
  {
   "cell_type": "code",
   "execution_count": null,
   "id": "ed1a8477",
   "metadata": {},
   "outputs": [],
   "source": []
  }
 ],
 "metadata": {
  "kernelspec": {
   "display_name": "Python 3 (ipykernel)",
   "language": "python",
   "name": "python3"
  },
  "language_info": {
   "codemirror_mode": {
    "name": "ipython",
    "version": 3
   },
   "file_extension": ".py",
   "mimetype": "text/x-python",
   "name": "python",
   "nbconvert_exporter": "python",
   "pygments_lexer": "ipython3",
   "version": "3.9.13"
  }
 },
 "nbformat": 4,
 "nbformat_minor": 5
}
